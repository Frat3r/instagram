{
 "cells": [
  {
   "cell_type": "code",
   "execution_count": null,
   "metadata": {},
   "outputs": [],
   "source": [
    "# you need inst_h_d and instagram.csv to fully use this notebook"
   ]
  },
  {
   "cell_type": "code",
   "execution_count": null,
   "metadata": {},
   "outputs": [],
   "source": [
    "import seaborn as sns\n",
    "import matplotlib.pyplot as plt\n",
    "from sklearn.pipeline import Pipeline\n",
    "from scipy.stats import kruskal, spearmanr\n",
    "import scikit_posthocs as sp\n",
    "import pprint\n",
    "from load_inst import *\n",
    "from pandas.plotting import register_matplotlib_converters\n",
    "%matplotlib inline\n",
    "register_matplotlib_converters()\n",
    "plt.rcParams.update({'figure.max_open_warning': 0})\n",
    "days = ['Monday', 'Tuesday', 'Wednesday', 'Thursday', 'Friday', 'Saturday', 'Sunday']"
   ]
  },
  {
   "cell_type": "markdown",
   "metadata": {},
   "source": [
    "# Basic analysis"
   ]
  },
  {
   "cell_type": "code",
   "execution_count": null,
   "metadata": {},
   "outputs": [],
   "source": [
    "instagram = load_instagram() # use this line if you want load whole data"
   ]
  },
  {
   "cell_type": "code",
   "execution_count": null,
   "metadata": {},
   "outputs": [],
   "source": [
    "instagram.head(5)"
   ]
  },
  {
   "cell_type": "code",
   "execution_count": null,
   "metadata": {},
   "outputs": [],
   "source": [
    "len(instagram.ID.unique())"
   ]
  },
  {
   "cell_type": "code",
   "execution_count": null,
   "metadata": {},
   "outputs": [],
   "source": [
    "plt.figure(figsize=(30,20))\n",
    "sns.lineplot(data=instagram, x='Time', y='Likes', hue='ID');"
   ]
  },
  {
   "cell_type": "code",
   "execution_count": null,
   "metadata": {
    "code_folding": [],
    "hide_input": false
   },
   "outputs": [],
   "source": [
    "get_rows = rows_choose(days=range(1,31))\n",
    "inst_h_d = get_rows.transform(instagram) # do not use unless you have updated the data or you want to\n",
    "                                         # get different timeshifts, it takes a lot of time to compute\n",
    "with open('inst_h_d', 'wb') as save_pickle:\n",
    "    pickle.dump(inst_h_d, save_pickle)"
   ]
  },
  {
   "cell_type": "code",
   "execution_count": null,
   "metadata": {
    "code_folding": []
   },
   "outputs": [],
   "source": [
    "with open('inst_h_d', 'rb') as tmp_pickle: # line to load data frame with default time shifts\n",
    "    inst_h_d = pickle.load(tmp_pickle)"
   ]
  },
  {
   "cell_type": "code",
   "execution_count": null,
   "metadata": {},
   "outputs": [],
   "source": [
    "inst_h_d.loc['1h'].head(5)"
   ]
  },
  {
   "cell_type": "code",
   "execution_count": null,
   "metadata": {
    "scrolled": true
   },
   "outputs": [],
   "source": [
    "dividing_point = (4, 7, 10, 16)\n",
    "# default pipeline, it adds two columns - hours of first appereance as integers (it first rounds\n",
    "# that time to full hours) and intervals of the time of first appereance\n",
    "inst_h_d_pipe = Pipeline([('hours_to_int', get_hours()),\n",
    "                          ('hours_intervals', hours_interval(dividing_points=dividing_point))])\n",
    "inst_h_d_to_use = inst_h_d_pipe.fit_transform(inst_h_d)\n",
    "inst_h_d_to_use.loc['1h']"
   ]
  },
  {
   "cell_type": "markdown",
   "metadata": {},
   "source": [
    "## Plots"
   ]
  },
  {
   "cell_type": "code",
   "execution_count": null,
   "metadata": {},
   "outputs": [],
   "source": [
    "my_order = create_time_intervals(dividing_point)\n",
    "time_shift_h_list = ['%sh' %num for num in range(1,24,1)]\n",
    "hours_names = ['1 hour']\n",
    "hours_names.extend(['%s hours' %num for num in range(2,24,1)])\n",
    "time_shift_d_list = ['%sd' %num for num in range(1,31,1)]\n",
    "days_names = ['1 day']\n",
    "days_names.extend(['%s days' %num for num in range(2,31,1)])"
   ]
  },
  {
   "cell_type": "code",
   "execution_count": null,
   "metadata": {
    "scrolled": true
   },
   "outputs": [],
   "source": [
    "for time_shift, m_hours in zip(time_shift_h_list, hours_names):\n",
    "    plt.figure(figsize=(10,15))\n",
    "    sns.boxplot(x=\"Time_intervals\", y=\"Likes\", data=inst_h_d_to_use.loc[time_shift],  order=my_order)\n",
    "    sns.stripplot(x=\"Time_intervals\", y=\"Likes\", data=inst_h_d_to_use.loc[time_shift], jitter=True,\n",
    "                  color='black', order=my_order).set(title='Likes after '+m_hours, xlabel='Time intervals')\n",
    "        "
   ]
  },
  {
   "cell_type": "code",
   "execution_count": null,
   "metadata": {
    "scrolled": true
   },
   "outputs": [],
   "source": [
    "plt.figure(figsize=(15, 10))\n",
    "sns.regplot(x='Int_hour', y='Likes', data=inst_h_d_to_use.loc['1h'], color='black', label='1h', x_jitter=0.2, fit_reg=True)\n",
    "sns.regplot(x='Int_hour', y='Likes', data=inst_h_d_to_use.loc['6h'], color='red', label='6h', x_jitter=0.2,fit_reg=True)\n",
    "sns.regplot(x='Int_hour', y='Likes', data=inst_h_d_to_use.loc['12h'], color='blue', label='12h', x_jitter=0.2, fit_reg=True)\n",
    "plt.legend();"
   ]
  },
  {
   "cell_type": "code",
   "execution_count": null,
   "metadata": {
    "scrolled": true
   },
   "outputs": [],
   "source": [
    "for time_shift, m_day in zip(time_shift_d_list, days_names):\n",
    "    plt.figure(figsize=(10,15))\n",
    "    sns.boxplot(x=\"Time_intervals\", y=\"Likes\", data=inst_h_d_to_use.loc[time_shift],  order=my_order)\n",
    "    sns.stripplot(x=\"Time_intervals\", y=\"Likes\", data=inst_h_d_to_use.loc[time_shift], jitter=True,\n",
    "                  color='black', order=my_order).set(title='Likes after '+m_day, xlabel='Time intervals')"
   ]
  },
  {
   "cell_type": "code",
   "execution_count": null,
   "metadata": {
    "scrolled": true
   },
   "outputs": [],
   "source": [
    "plt.figure(figsize=(15, 10))\n",
    "sns.regplot(x='Int_hour', y='Likes', data=inst_h_d_to_use.loc['1d'], color='black', label='1d', x_jitter=0.2, fit_reg=True)\n",
    "sns.regplot(x='Int_hour', y='Likes', data=inst_h_d_to_use.loc['6d'], color='red', label='6d', x_jitter=0.2,fit_reg=True)\n",
    "sns.regplot(x='Int_hour', y='Likes', data=inst_h_d_to_use.loc['12d'], color='blue', label='12d', x_jitter=0.2, fit_reg=True)\n",
    "plt.legend();"
   ]
  },
  {
   "cell_type": "markdown",
   "metadata": {},
   "source": [
    "## Statistics"
   ]
  },
  {
   "cell_type": "code",
   "execution_count": null,
   "metadata": {
    "scrolled": true
   },
   "outputs": [],
   "source": [
    "inst_h_d_to_use.loc['1h'][['Likes', 'Time_intervals']].groupby(['Time_intervals']).describe()"
   ]
  },
  {
   "cell_type": "code",
   "execution_count": null,
   "metadata": {},
   "outputs": [],
   "source": [
    "inst_h_d_to_use.loc['6h'][['Likes', 'Time_intervals']].groupby(['Time_intervals']).describe()"
   ]
  },
  {
   "cell_type": "code",
   "execution_count": null,
   "metadata": {},
   "outputs": [],
   "source": [
    "inst_h_d_to_use.loc['12h'][['Likes', 'Time_intervals']].groupby(['Time_intervals']).describe()"
   ]
  },
  {
   "cell_type": "code",
   "execution_count": null,
   "metadata": {},
   "outputs": [],
   "source": [
    "inst_h_d_to_use.loc['1d'][['Likes', 'Time_intervals']].groupby(['Time_intervals']).describe()"
   ]
  },
  {
   "cell_type": "code",
   "execution_count": null,
   "metadata": {},
   "outputs": [],
   "source": [
    "inst_h_d_to_use.loc['6d'][['Likes', 'Time_intervals']].groupby(['Time_intervals']).describe()"
   ]
  },
  {
   "cell_type": "code",
   "execution_count": null,
   "metadata": {},
   "outputs": [],
   "source": [
    "inst_h_d_to_use.loc['12d'][['Likes', 'Time_intervals']].groupby(['Time_intervals']).describe()"
   ]
  },
  {
   "cell_type": "markdown",
   "metadata": {},
   "source": [
    "### Correlation"
   ]
  },
  {
   "cell_type": "code",
   "execution_count": null,
   "metadata": {},
   "outputs": [],
   "source": [
    "ind_names = ('1h', '6h', '12h', '1d', '6d', '12d')\n",
    "corr_dict = {'%s' %ind :inst_h_d_to_use.loc[ind]['Likes'].corr(inst_h_d_to_use.loc[ind]['Int_hour']) for ind in ind_names}\n",
    "for name, corr in corr_dict.items():\n",
    "    print('%s: %s\\n' %(name, corr))"
   ]
  },
  {
   "cell_type": "code",
   "execution_count": null,
   "metadata": {},
   "outputs": [],
   "source": [
    "corr_dict2 = {'%s' %ind : spearmanr(inst_h_d_to_use.loc[ind]['Likes'], inst_h_d_to_use.loc[ind]['Int_hour']) for ind in ind_names}\n",
    "for name, corr in corr_dict2.items():\n",
    "    print('%s: %s\\n' %(name, corr.correlation))"
   ]
  },
  {
   "cell_type": "markdown",
   "metadata": {},
   "source": [
    "## Tests"
   ]
  },
  {
   "cell_type": "code",
   "execution_count": null,
   "metadata": {},
   "outputs": [],
   "source": [
    "kruskal(*[group[\"Likes\"].values for _, group in inst_h_d_to_use.loc['1h'][['Likes', 'Time_intervals']].groupby(['Time_intervals'])])"
   ]
  },
  {
   "cell_type": "code",
   "execution_count": null,
   "metadata": {},
   "outputs": [],
   "source": [
    "kruskal(*[group[\"Likes\"].values for _, group in inst_h_d_to_use.loc['6h'][['Likes', 'Time_intervals']].groupby(['Time_intervals'])])"
   ]
  },
  {
   "cell_type": "code",
   "execution_count": null,
   "metadata": {},
   "outputs": [],
   "source": [
    "kruskal(*[group[\"Likes\"].values for _, group in inst_h_d_to_use.loc['12h'][['Likes', 'Time_intervals']].groupby(['Time_intervals'])])"
   ]
  },
  {
   "cell_type": "code",
   "execution_count": null,
   "metadata": {},
   "outputs": [],
   "source": [
    "sp.posthoc_dunn(inst_h_d_to_use.loc['12h'][['Likes', 'Time_intervals']], val_col='Likes', group_col='Time_intervals', p_adjust = 'holm')"
   ]
  },
  {
   "cell_type": "code",
   "execution_count": null,
   "metadata": {},
   "outputs": [],
   "source": [
    "kruskal(*[group[\"Likes\"].values for _, group in inst_h_d_to_use.loc['1d'][['Likes', 'Time_intervals']].groupby(['Time_intervals'])])"
   ]
  },
  {
   "cell_type": "code",
   "execution_count": null,
   "metadata": {},
   "outputs": [],
   "source": [
    "kruskal(*[group[\"Likes\"].values for _, group in inst_h_d_to_use.loc['6d'][['Likes', 'Time_intervals']].groupby(['Time_intervals'])])"
   ]
  },
  {
   "cell_type": "code",
   "execution_count": null,
   "metadata": {},
   "outputs": [],
   "source": [
    "kruskal(*[group[\"Likes\"].values for _, group in inst_h_d_to_use.loc['12d'][['Likes', 'Time_intervals']].groupby(['Time_intervals'])])"
   ]
  },
  {
   "cell_type": "code",
   "execution_count": null,
   "metadata": {},
   "outputs": [],
   "source": [
    "kruskal(*[group[\"Likes\"].values for _, group in inst_h_d_to_use.loc['12d'][['Likes', 'Time_intervals']].groupby(['Time_intervals'])])"
   ]
  },
  {
   "cell_type": "markdown",
   "metadata": {},
   "source": [
    "## Number of likes in time intervals"
   ]
  },
  {
   "cell_type": "markdown",
   "metadata": {},
   "source": [
    "### Each photo as single observation"
   ]
  },
  {
   "cell_type": "code",
   "execution_count": null,
   "metadata": {},
   "outputs": [],
   "source": [
    "diff_pipe = Pipeline([('diff_maker', select_by_time(time_freq='3h')),\n",
    "                      ('add_intervals', hours_interval(dividing_points=range(0, 25, 3),\n",
    "                                                       low_int=True, int_time_col='Time',\n",
    "                                                       full_day=True)),\n",
    "                     ('first_app_int', hours_interval(dividing_points=range(0, 25, 3),\n",
    "                                                       low_int=False, int_time_col='First_app',\n",
    "                                                       full_day=True, new_col_name='First_app_int'))])\n",
    "inst_diff_likes = diff_pipe.transform(instagram)"
   ]
  },
  {
   "cell_type": "code",
   "execution_count": null,
   "metadata": {},
   "outputs": [],
   "source": [
    "inst_no0_diff_likes = inst_diff_likes.loc[inst_diff_likes.Diff_likes != 0]"
   ]
  },
  {
   "cell_type": "markdown",
   "metadata": {},
   "source": [
    "#### Plots"
   ]
  },
  {
   "cell_type": "code",
   "execution_count": null,
   "metadata": {},
   "outputs": [],
   "source": [
    "hue_order_time_int = create_time_intervals(range(0,25,3))"
   ]
  },
  {
   "cell_type": "code",
   "execution_count": null,
   "metadata": {
    "scrolled": true
   },
   "outputs": [],
   "source": [
    "plt.figure(figsize=(15,15))\n",
    "sns.boxplot(x=\"Time_intervals\", y=\"Diff_likes\", data=inst_diff_likes, showfliers=False)\n",
    "sns.stripplot(x=\"Time_intervals\", y=\"Diff_likes\", data=inst_diff_likes, jitter=True, hue='First_app_int',\n",
    "             hue_order=hue_order_time_int)\n",
    "plt.legend(title='Time interval of upload');"
   ]
  },
  {
   "cell_type": "code",
   "execution_count": null,
   "metadata": {
    "scrolled": false
   },
   "outputs": [],
   "source": [
    "plt.figure(figsize=(15,15))\n",
    "sns.boxplot(x=\"Time_intervals\", y=\"Diff_likes\", data=inst_no0_diff_likes, showfliers=False)\n",
    "sns.stripplot(x=\"Time_intervals\", y=\"Diff_likes\", data=inst_no0_diff_likes, jitter=True, hue='First_app_int',\n",
    "             hue_order=hue_order_time_int)\n",
    "plt.legend(title='Time interval of upload');"
   ]
  },
  {
   "cell_type": "code",
   "execution_count": null,
   "metadata": {
    "scrolled": true
   },
   "outputs": [],
   "source": [
    "time_int_hist = inst_no0_diff_likes.Time_intervals.unique()\n",
    "for time_int in time_int_hist:\n",
    "    plt.figure(figsize=(10,5))\n",
    "    sns.distplot(inst_diff_likes.loc[inst_diff_likes.Time_intervals == time_int]['Diff_likes'],\n",
    "                 color=\"black\").set_title(time_int);"
   ]
  },
  {
   "cell_type": "code",
   "execution_count": null,
   "metadata": {},
   "outputs": [],
   "source": [
    "for time_int in time_int_hist:\n",
    "    plt.figure(figsize=(10,5))\n",
    "    sns.distplot(inst_no0_diff_likes.loc[inst_no0_diff_likes.Time_intervals == time_int]['Diff_likes'],\n",
    "                 color=\"black\").set_title(time_int);"
   ]
  },
  {
   "cell_type": "markdown",
   "metadata": {},
   "source": [
    "#### Statistics"
   ]
  },
  {
   "cell_type": "code",
   "execution_count": null,
   "metadata": {},
   "outputs": [],
   "source": [
    "inst_diff_likes[['Diff_likes', 'Time_intervals']].groupby(['Time_intervals'], sort=False).describe()"
   ]
  },
  {
   "cell_type": "code",
   "execution_count": null,
   "metadata": {},
   "outputs": [],
   "source": [
    "inst_no0_diff_likes[['Diff_likes', 'Time_intervals']].groupby(['Time_intervals'], sort=False).describe()"
   ]
  },
  {
   "cell_type": "markdown",
   "metadata": {},
   "source": [
    "#### Tests"
   ]
  },
  {
   "cell_type": "code",
   "execution_count": null,
   "metadata": {},
   "outputs": [],
   "source": [
    "kruskal(*[group[\"Diff_likes\"].values for _, group in inst_diff_likes[['Diff_likes', 'Time_intervals']].groupby(['Time_intervals'])])"
   ]
  },
  {
   "cell_type": "code",
   "execution_count": null,
   "metadata": {},
   "outputs": [],
   "source": [
    "time_int_photo_ph = sp.posthoc_dunn(inst_diff_likes[['Diff_likes', 'Time_intervals']], val_col='Diff_likes',\n",
    "                group_col='Time_intervals',\n",
    "                p_adjust='holm-sidak').replace(-1,1)\n",
    "reindex_ph(time_int_photo_ph).style.background_gradient(cmap='coolwarm_r')"
   ]
  },
  {
   "cell_type": "code",
   "execution_count": null,
   "metadata": {},
   "outputs": [],
   "source": [
    "kruskal(*[group[\"Diff_likes\"].values for _, group in inst_no0_diff_likes[['Diff_likes', 'Time_intervals']].groupby(['Time_intervals'])])"
   ]
  },
  {
   "cell_type": "code",
   "execution_count": null,
   "metadata": {},
   "outputs": [],
   "source": [
    "time_int_photo_ph_no0 = sp.posthoc_dunn(inst_no0_diff_likes[['Diff_likes', 'Time_intervals']], val_col='Diff_likes',\n",
    "                group_col='Time_intervals',\n",
    "                p_adjust='holm-sidak').replace(-1,1)\n",
    "reindex_ph(time_int_photo_ph_no0).style.background_gradient(cmap='coolwarm_r')"
   ]
  },
  {
   "cell_type": "markdown",
   "metadata": {},
   "source": [
    "### Each day as single observation"
   ]
  },
  {
   "cell_type": "code",
   "execution_count": null,
   "metadata": {},
   "outputs": [],
   "source": [
    "diff_group_pipe = Pipeline([('diff_maker', select_by_time(time_freq='3h')),\n",
    "                            ('add_intervals', hours_interval(dividing_points=range(0, 25, 3),\n",
    "                                                             low_int=True, int_time_col='Time', full_day=True)),\n",
    "                            ('group_int', group_by_days())])\n",
    "inst_int_group_likes = diff_group_pipe.transform(instagram)\n",
    "inst_int_no0_group_likes = inst_int_group_likes.loc[inst_int_group_likes['Diff_likes'] != 0]"
   ]
  },
  {
   "cell_type": "markdown",
   "metadata": {},
   "source": [
    "#### Plots"
   ]
  },
  {
   "cell_type": "code",
   "execution_count": null,
   "metadata": {
    "scrolled": true
   },
   "outputs": [],
   "source": [
    "plt.figure(figsize=(15,15))\n",
    "sns.boxplot(x=\"Time_intervals\", y=\"Diff_likes\", data=inst_int_group_likes, showfliers = False);\n",
    "sns.stripplot(x=\"Time_intervals\", y=\"Diff_likes\", data=inst_int_group_likes, jitter=True, color='black');"
   ]
  },
  {
   "cell_type": "code",
   "execution_count": null,
   "metadata": {
    "scrolled": false
   },
   "outputs": [],
   "source": [
    "plt.figure(figsize=(15,15))\n",
    "sns.boxplot(x=\"Time_intervals\", y=\"Diff_likes\", data=inst_int_no0_group_likes, showfliers = False);\n",
    "sns.stripplot(x=\"Time_intervals\", y=\"Diff_likes\", data=inst_int_no0_group_likes, jitter=True, color='black');"
   ]
  },
  {
   "cell_type": "code",
   "execution_count": null,
   "metadata": {
    "scrolled": true
   },
   "outputs": [],
   "source": [
    "for time_int in time_int_hist:\n",
    "    plt.figure(figsize=(10,5))\n",
    "    sns.distplot(inst_int_group_likes.loc[inst_int_group_likes.Time_intervals == time_int]['Diff_likes'],\n",
    "                 color=\"black\").set_title(time_int);"
   ]
  },
  {
   "cell_type": "code",
   "execution_count": null,
   "metadata": {
    "scrolled": true
   },
   "outputs": [],
   "source": [
    "for time_int in time_int_hist:\n",
    "    plt.figure(figsize=(10,5))\n",
    "    sns.distplot(inst_int_no0_group_likes.loc[inst_int_no0_group_likes.Time_intervals == time_int]['Diff_likes'],\n",
    "                 color=\"black\").set_title(time_int);"
   ]
  },
  {
   "cell_type": "markdown",
   "metadata": {},
   "source": [
    "#### Statistics"
   ]
  },
  {
   "cell_type": "code",
   "execution_count": null,
   "metadata": {},
   "outputs": [],
   "source": [
    "inst_int_group_likes.groupby('Time_intervals', sort=False).describe()"
   ]
  },
  {
   "cell_type": "code",
   "execution_count": null,
   "metadata": {
    "scrolled": true
   },
   "outputs": [],
   "source": [
    "inst_int_no0_group_likes.groupby('Time_intervals', sort=False).describe()"
   ]
  },
  {
   "cell_type": "markdown",
   "metadata": {},
   "source": [
    "#### Tests"
   ]
  },
  {
   "cell_type": "code",
   "execution_count": null,
   "metadata": {},
   "outputs": [],
   "source": [
    "kruskal(*[group[\"Diff_likes\"].values for _, group in inst_int_group_likes[['Diff_likes', 'Time_intervals']].groupby(['Time_intervals'])])"
   ]
  },
  {
   "cell_type": "code",
   "execution_count": null,
   "metadata": {},
   "outputs": [],
   "source": [
    "time_int_day_ph = sp.posthoc_dunn(inst_int_group_likes[['Diff_likes', 'Time_intervals']], val_col='Diff_likes',\n",
    "                group_col='Time_intervals',\n",
    "                p_adjust='holm-sidak').replace(-1,1)\n",
    "reindex_ph(time_int_day_ph).style.background_gradient(cmap='coolwarm_r')"
   ]
  },
  {
   "cell_type": "code",
   "execution_count": null,
   "metadata": {},
   "outputs": [],
   "source": [
    "kruskal(*[group[\"Diff_likes\"].values for _, group in inst_int_no0_group_likes[['Diff_likes', 'Time_intervals']].groupby(['Time_intervals'])])"
   ]
  },
  {
   "cell_type": "code",
   "execution_count": null,
   "metadata": {},
   "outputs": [],
   "source": [
    "time_int_day_ph_no0 = sp.posthoc_dunn(inst_int_no0_group_likes[['Diff_likes', 'Time_intervals']], val_col='Diff_likes',\n",
    "                group_col='Time_intervals',\n",
    "                p_adjust='holm-sidak').replace(-1,1)\n",
    "reindex_ph(time_int_day_ph_no0).style.background_gradient(cmap='coolwarm_r')"
   ]
  },
  {
   "cell_type": "markdown",
   "metadata": {},
   "source": [
    "# Days of week"
   ]
  },
  {
   "cell_type": "markdown",
   "metadata": {},
   "source": [
    "### Each photo as single observation"
   ]
  },
  {
   "cell_type": "code",
   "execution_count": null,
   "metadata": {},
   "outputs": [],
   "source": [
    "time_days_likes_diff_day_group = Pipeline([('Time_select', select_by_time(time_freq='1D')),\n",
    "                                 ('Day_of_week',get_day_of_week(prev_day=True, sort_by_num=True)),\n",
    "                                 ('Day_of_week_f_app',get_day_of_week(prev_day=False, time_col='First_app',\n",
    "                                                                     day_col_name='Day_of_first_app', \n",
    "                                                                     day_col_num='Day_of_first_app_num',\n",
    "                                                                     sort_by_num=False))])\n",
    "photo_day_diff_likes = time_days_likes_diff_day_group.transform(instagram)"
   ]
  },
  {
   "cell_type": "code",
   "execution_count": null,
   "metadata": {},
   "outputs": [],
   "source": [
    "photo_day_diff_likes_no0 = photo_day_diff_likes.loc[photo_day_diff_likes.Diff_likes != 0]\n",
    "photo_day_diff_likes_no_out = photo_day_diff_likes_no0[photo_day_diff_likes_no0.Diff_likes < 80]"
   ]
  },
  {
   "cell_type": "code",
   "execution_count": null,
   "metadata": {},
   "outputs": [],
   "source": [
    "hue_order_days = photo_day_diff_likes.Day_of_week.unique()"
   ]
  },
  {
   "cell_type": "code",
   "execution_count": null,
   "metadata": {
    "scrolled": false
   },
   "outputs": [],
   "source": [
    "plt.figure(figsize=(15,15))\n",
    "sns.boxplot(x=\"Day_of_week\", y=\"Diff_likes\", data=photo_day_diff_likes, showfliers=False);\n",
    "sns.stripplot(x=\"Day_of_week\", y=\"Diff_likes\", data=photo_day_diff_likes, jitter=True, hue='Day_of_first_app', \n",
    "              hue_order = hue_order_days)\n",
    "plt.legend(title='Day of upload');"
   ]
  },
  {
   "cell_type": "code",
   "execution_count": null,
   "metadata": {
    "scrolled": false
   },
   "outputs": [],
   "source": [
    "plt.figure(figsize=(15,15))\n",
    "sns.boxplot(x=\"Day_of_week\", y=\"Diff_likes\", data=photo_day_diff_likes_no0, showfliers=False);\n",
    "sns.stripplot(x=\"Day_of_week\", y=\"Diff_likes\", data=photo_day_diff_likes_no0, jitter=True, hue='Day_of_first_app', \n",
    "              hue_order = hue_order_days)\n",
    "plt.legend(title='Day of upload');"
   ]
  },
  {
   "cell_type": "code",
   "execution_count": null,
   "metadata": {
    "scrolled": false
   },
   "outputs": [],
   "source": [
    "plt.figure(figsize=(15,15))\n",
    "sns.boxplot(x=\"Day_of_week\", y=\"Diff_likes\", data=photo_day_diff_likes_no_out, showfliers=False);\n",
    "sns.stripplot(x=\"Day_of_week\", y=\"Diff_likes\", data=photo_day_diff_likes_no_out, jitter=True, hue='Day_of_first_app', \n",
    "              hue_order = hue_order_days)\n",
    "plt.legend(title='Day of upload');"
   ]
  },
  {
   "cell_type": "code",
   "execution_count": null,
   "metadata": {},
   "outputs": [],
   "source": [
    "week_days = photo_day_diff_likes['Day_of_week'].unique()"
   ]
  },
  {
   "cell_type": "code",
   "execution_count": null,
   "metadata": {},
   "outputs": [],
   "source": [
    "for week_day in week_days:\n",
    "    plt.figure(figsize=(10,5))\n",
    "    sns.distplot(photo_day_diff_likes.loc[photo_day_diff_likes.Day_of_week == week_day]['Diff_likes'],\n",
    "                 color=\"black\").set_title(week_day);"
   ]
  },
  {
   "cell_type": "code",
   "execution_count": null,
   "metadata": {
    "scrolled": true
   },
   "outputs": [],
   "source": [
    "for week_day in week_days:\n",
    "    plt.figure(figsize=(10,5))\n",
    "    sns.distplot(photo_day_diff_likes_no0.loc[photo_day_diff_likes_no0.Day_of_week == week_day]['Diff_likes'],\n",
    "                 color=\"black\").set_title(week_day);"
   ]
  },
  {
   "cell_type": "code",
   "execution_count": null,
   "metadata": {
    "scrolled": true
   },
   "outputs": [],
   "source": [
    "for week_day in week_days:\n",
    "    plt.figure(figsize=(10,5))\n",
    "    sns.distplot(photo_day_diff_likes_no_out.loc[photo_day_diff_likes_no_out.Day_of_week == week_day]['Diff_likes'],\n",
    "                 color=\"black\").set_title(week_day);"
   ]
  },
  {
   "cell_type": "markdown",
   "metadata": {},
   "source": [
    "#### Statistics"
   ]
  },
  {
   "cell_type": "code",
   "execution_count": null,
   "metadata": {
    "scrolled": false
   },
   "outputs": [],
   "source": [
    "photo_day_diff_likes[['Diff_likes', 'Day_of_week']].groupby('Day_of_week', sort=False).describe()"
   ]
  },
  {
   "cell_type": "code",
   "execution_count": null,
   "metadata": {
    "scrolled": true
   },
   "outputs": [],
   "source": [
    "photo_day_diff_likes_no0[['Diff_likes', 'Day_of_week']].groupby('Day_of_week', sort=False).describe()"
   ]
  },
  {
   "cell_type": "code",
   "execution_count": null,
   "metadata": {},
   "outputs": [],
   "source": [
    "photo_day_diff_likes_no_out[['Diff_likes', 'Day_of_week']].groupby('Day_of_week', sort=False).describe()"
   ]
  },
  {
   "cell_type": "markdown",
   "metadata": {},
   "source": [
    "#### Tests"
   ]
  },
  {
   "cell_type": "code",
   "execution_count": null,
   "metadata": {},
   "outputs": [],
   "source": [
    "kruskal(*[group[\"Diff_likes\"].values for _, group in photo_day_diff_likes[['Diff_likes', 'Day_of_week']].groupby(['Day_of_week'])])"
   ]
  },
  {
   "cell_type": "code",
   "execution_count": null,
   "metadata": {},
   "outputs": [],
   "source": [
    "photo_day_diff_likes_ph = sp.posthoc_dunn(photo_day_diff_likes[['Diff_likes', 'Day_of_week']], val_col='Diff_likes',\n",
    "                group_col='Day_of_week',\n",
    "                p_adjust='holm-sidak').replace(-1,1)\n",
    "reindex_ph(photo_day_diff_likes_ph, my_key=days, sort=False).style.applymap(two_colors)"
   ]
  },
  {
   "cell_type": "code",
   "execution_count": null,
   "metadata": {},
   "outputs": [],
   "source": [
    "kruskal(*[group[\"Diff_likes\"].values for _, group in photo_day_diff_likes_no0[['Diff_likes', 'Day_of_week']].groupby(['Day_of_week'])])"
   ]
  },
  {
   "cell_type": "code",
   "execution_count": null,
   "metadata": {},
   "outputs": [],
   "source": [
    "photo_day_diff_likes_no0_ph = sp.posthoc_dunn(photo_day_diff_likes_no0[['Diff_likes', 'Day_of_week']], val_col='Diff_likes',\n",
    "                group_col='Day_of_week',\n",
    "                p_adjust='holm-sidak').replace(-1,1)\n",
    "reindex_ph(photo_day_diff_likes_no0_ph, my_key=days, sort=False).style.applymap(two_colors)"
   ]
  },
  {
   "cell_type": "markdown",
   "metadata": {},
   "source": [
    "### Each day as single observation"
   ]
  },
  {
   "cell_type": "code",
   "execution_count": null,
   "metadata": {},
   "outputs": [],
   "source": [
    "time_days_likes_diff_ID_group = Pipeline([('Time_select', select_by_time(time_freq='1D')),\n",
    "                                 ('Day_of_week',get_day_of_week(prev_day=True)),\n",
    "                                 ('Group_by_days_ID', group_by_days(time_int_col='Day_of_week'))])\n",
    "photo_day_ID_diff_likes = time_days_likes_diff_ID_group.transform(instagram)"
   ]
  },
  {
   "cell_type": "code",
   "execution_count": null,
   "metadata": {},
   "outputs": [],
   "source": [
    "photo_day_ID_diff_likes_no0 = photo_day_ID_diff_likes.loc[photo_day_ID_diff_likes.Diff_likes != 0]"
   ]
  },
  {
   "cell_type": "code",
   "execution_count": null,
   "metadata": {
    "scrolled": true
   },
   "outputs": [],
   "source": [
    "plt.figure(figsize=(15,15))\n",
    "sns.boxplot(x=\"Day_of_week\", y=\"Diff_likes\", data=photo_day_ID_diff_likes, showfliers=False);\n",
    "sns.stripplot(x=\"Day_of_week\", y=\"Diff_likes\", data=photo_day_ID_diff_likes, jitter=True, color='black');"
   ]
  },
  {
   "cell_type": "code",
   "execution_count": null,
   "metadata": {
    "scrolled": true
   },
   "outputs": [],
   "source": [
    "plt.figure(figsize=(15,15))\n",
    "sns.boxplot(x=\"Day_of_week\", y=\"Diff_likes\", data=photo_day_ID_diff_likes_no0, showfliers=False);\n",
    "sns.stripplot(x=\"Day_of_week\", y=\"Diff_likes\", data=photo_day_ID_diff_likes_no0, jitter=True, color='black');"
   ]
  },
  {
   "cell_type": "code",
   "execution_count": null,
   "metadata": {},
   "outputs": [],
   "source": [
    "week_days = photo_day_diff_likes['Day_of_week'].unique()"
   ]
  },
  {
   "cell_type": "code",
   "execution_count": null,
   "metadata": {
    "scrolled": true
   },
   "outputs": [],
   "source": [
    "for week_day in week_days:\n",
    "    plt.figure(figsize=(10,5))\n",
    "    sns.distplot(photo_day_ID_diff_likes.loc[photo_day_ID_diff_likes.Day_of_week == week_day]['Diff_likes'],\n",
    "                 color=\"black\").set_title(week_day);"
   ]
  },
  {
   "cell_type": "code",
   "execution_count": null,
   "metadata": {},
   "outputs": [],
   "source": [
    "for week_day in week_days:\n",
    "    plt.figure(figsize=(10,5))\n",
    "    sns.distplot(photo_day_ID_diff_likes_no0.loc[photo_day_ID_diff_likes_no0.Day_of_week == week_day]['Diff_likes'],\n",
    "                 color=\"black\").set_title(week_day);"
   ]
  },
  {
   "cell_type": "markdown",
   "metadata": {},
   "source": [
    "#### Statistics"
   ]
  },
  {
   "cell_type": "code",
   "execution_count": null,
   "metadata": {
    "scrolled": false
   },
   "outputs": [],
   "source": [
    "photo_day_ID_diff_likes.groupby('Day_of_week', sort=False).describe()"
   ]
  },
  {
   "cell_type": "code",
   "execution_count": null,
   "metadata": {},
   "outputs": [],
   "source": [
    "photo_day_ID_diff_likes_no0.groupby('Day_of_week', sort=False).describe()"
   ]
  },
  {
   "cell_type": "markdown",
   "metadata": {},
   "source": [
    "#### Tests"
   ]
  },
  {
   "cell_type": "code",
   "execution_count": null,
   "metadata": {},
   "outputs": [],
   "source": [
    "kruskal(*[group[\"Diff_likes\"].values for _, group in photo_day_ID_diff_likes[['Diff_likes', 'Day_of_week']].groupby(['Day_of_week'])])"
   ]
  },
  {
   "cell_type": "code",
   "execution_count": null,
   "metadata": {
    "scrolled": true
   },
   "outputs": [],
   "source": [
    "photo_day_ID_diff_likes_ph = sp.posthoc_dunn(photo_day_ID_diff_likes[['Diff_likes', 'Day_of_week']], val_col='Diff_likes',\n",
    "                group_col='Day_of_week',\n",
    "                p_adjust='holm-sidak').replace(-1,1)\n",
    "reindex_ph(photo_day_ID_diff_likes_ph, my_key=days, sort=False).style.applymap(two_colors)"
   ]
  },
  {
   "cell_type": "code",
   "execution_count": null,
   "metadata": {},
   "outputs": [],
   "source": [
    "kruskal(*[group[\"Diff_likes\"].values for _, group in photo_day_ID_diff_likes_no0[['Diff_likes', 'Day_of_week']].groupby(['Day_of_week'])])"
   ]
  },
  {
   "cell_type": "code",
   "execution_count": null,
   "metadata": {},
   "outputs": [],
   "source": [
    "photo_day_ID_diff_likes_no0_ph = sp.posthoc_dunn(photo_day_ID_diff_likes_no0[['Diff_likes', 'Day_of_week']], val_col='Diff_likes',\n",
    "                group_col='Day_of_week',\n",
    "                p_adjust='holm-sidak').replace(-1,1)\n",
    "reindex_ph(photo_day_ID_diff_likes_no0_ph, my_key=days, sort=False).style.applymap(two_colors)"
   ]
  },
  {
   "cell_type": "code",
   "execution_count": null,
   "metadata": {},
   "outputs": [],
   "source": []
  }
 ],
 "metadata": {
  "kernelspec": {
   "display_name": "Python 3",
   "language": "python",
   "name": "python3"
  },
  "language_info": {
   "codemirror_mode": {
    "name": "ipython",
    "version": 3
   },
   "file_extension": ".py",
   "mimetype": "text/x-python",
   "name": "python",
   "nbconvert_exporter": "python",
   "pygments_lexer": "ipython3",
   "version": "3.7.3"
  }
 },
 "nbformat": 4,
 "nbformat_minor": 2
}
